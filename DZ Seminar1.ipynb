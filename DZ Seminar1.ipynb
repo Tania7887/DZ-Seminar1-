{
 "cells": [
  {
   "cell_type": "markdown",
   "id": "f616ccd1",
   "metadata": {},
   "source": [
    "## Задание 2."
   ]
  },
  {
   "cell_type": "markdown",
   "id": "ac572f2f",
   "metadata": {},
   "source": [
    "На складе лежат разные фрукты в разном количестве. Нужно написать функцию, которая на вход принимает любое количество названий фруктов и их количество, а возвращает общее количество фруктов на складе."
   ]
  },
  {
   "cell_type": "markdown",
   "id": "f39c81f4",
   "metadata": {},
   "source": [
    "### 2.1"
   ]
  },
  {
   "cell_type": "code",
   "execution_count": 1,
   "id": "a3dbea12",
   "metadata": {},
   "outputs": [
    {
     "name": "stdout",
     "output_type": "stream",
     "text": [
      "Всего фруктов на складе: 20\n"
     ]
    }
   ],
   "source": [
    "def sum_fruits(**kwargs):\n",
    "    return sum(kwargs.values())\n",
    "\n",
    "print(f'Всего фруктов на складе: {sum_fruits(Груши=5, Мандарины=7, Яблоки=3, Апельсины=4, Ананасы=1)}') "
   ]
  },
  {
   "cell_type": "markdown",
   "id": "d7a050be",
   "metadata": {},
   "source": [
    "### Задание 3."
   ]
  },
  {
   "cell_type": "markdown",
   "id": "213ecb8b",
   "metadata": {},
   "source": [
    "Дан список с затратами на рекламу. Но в данных есть ошибки, некоторые затраты имеют отрицательную величину. Удалите такие значения из списка и посчитайте суммарные затраты [100, 125, -90, 345, 655, -1, 0, 200]. \n",
    "Используйте list comprehensions"
   ]
  },
  {
   "cell_type": "markdown",
   "id": "1b6ede1d",
   "metadata": {},
   "source": [
    "### 3.1"
   ]
  },
  {
   "cell_type": "code",
   "execution_count": 2,
   "id": "ad611b10",
   "metadata": {},
   "outputs": [
    {
     "name": "stdout",
     "output_type": "stream",
     "text": [
      "Скорректированный список: [100, 125, 345, 655, 0, 200]\n",
      "Сумма затрат на рекламу: 1425\n"
     ]
    }
   ],
   "source": [
    "data_list = [100, 125, -90, 345, 655, -1, 0, 200]\n",
    "result_list = [i for i in data_list if i>=0]\n",
    "print(f'Скорректированный список: {result_list}')\n",
    "print(f'Сумма затрат на рекламу: {sum(result_list)}')"
   ]
  },
  {
   "cell_type": "markdown",
   "id": "9fbc7e52",
   "metadata": {},
   "source": [
    "## Задание 4."
   ]
  },
  {
   "cell_type": "markdown",
   "id": "f8bf821d",
   "metadata": {},
   "source": [
    "Даны два списка.\n",
    "Дата покупки \n",
    "['2021-09-14', '2021-12-15', '2021-09-08', '2021-12-05', '2021-10-09', '2021-09-30', '2021-12-22', '2021-11-29', '2021-12-24', '2021-11-26', '2021-10-27', '2021-12-18', '2021-11-09', '2021-11-23', '2021-09-27', '2021-10-02', '2021-12-27', '2021-09-20', '2021-12-13', '2021-11-01', '2021-11-09', '2021-12-06', '2021-12-08', '2021-10-09', '2021-10-31', '2021-09-30', '2021-11-09', '2021-12-13', '2021-10-26', '2021-12-09']\n",
    "Суммы покупок по датам \n",
    "[1270, 8413, 9028, 3703, 5739, 4095, 295, 4944, 5723, 3701, 4471, 651, 7037, 4274, 6275, 4988, 6930, 2971, 6592, 2004, 2822, 519, 3406, 2732, 5015, 2008, 316, 6333, 5700, 2887]"
   ]
  },
  {
   "cell_type": "markdown",
   "id": "fa66d7d6",
   "metadata": {},
   "source": [
    "### 4.1 Найдите, какая выручка у компании в ноябре. \n",
    "Используйте list comprehensions"
   ]
  },
  {
   "cell_type": "code",
   "execution_count": 3,
   "id": "ac16cbe0",
   "metadata": {},
   "outputs": [
    {
     "name": "stdout",
     "output_type": "stream",
     "text": [
      "Выручка в ноябре: 25098\n"
     ]
    }
   ],
   "source": [
    "date_purchases = ['2021-09-14', '2021-12-15', '2021-09-08', '2021-12-05', '2021-10-09', '2021-09-30', '2021-12-22', '2021-11-29', '2021-12-24', '2021-11-26', '2021-10-27', '2021-12-18', '2021-11-09', '2021-11-23', '2021-09-27', '2021-10-02', '2021-12-27', '2021-09-20', '2021-12-13', '2021-11-01', '2021-11-09', '2021-12-06', '2021-12-08', '2021-10-09', '2021-10-31', '2021-09-30', '2021-11-09', '2021-12-13', '2021-10-26', '2021-12-09']\n",
    "price_purchases = [1270, 8413, 9028, 3703, 5739, 4095, 295, 4944, 5723, 3701, 4471, 651, 7037, 4274, 6275, 4988, 6930, 2971, 6592, 2004, 2822, 519, 3406, 2732, 5015, 2008, 316, 6333, 5700, 2887]\n",
    "\n",
    "november_purchases = [price_purchases[i] for i in range(len(date_purchases)) if (date_purchases[i][5]=='1' and date_purchases[i][6]=='1')]\n",
    "print(f'Выручка в ноябре: {sum(november_purchases)}')"
   ]
  },
  {
   "cell_type": "markdown",
   "id": "0dd0e557",
   "metadata": {},
   "source": [
    "### 4.2 Найдите выручку компании в зависимости от месяца. \n",
    "Для этого напишите функцию, которая на вход принимает список с датами и список с выручкой, а на выходе словарь, где ключи - это месяцы, а значения - это выручка.\n",
    "Используйте аннотирование типов."
   ]
  },
  {
   "cell_type": "code",
   "execution_count": 4,
   "id": "859f6b35",
   "metadata": {},
   "outputs": [
    {
     "name": "stdout",
     "output_type": "stream",
     "text": [
      "Выручка компании в зависимости от месяца: {'09': 25647, '12': 45452, '10': 28645, '11': 25098}\n"
     ]
    }
   ],
   "source": [
    "import datetime\n",
    "\n",
    "def itog(data_value:list, price_value:list) -> dict:\n",
    "    incom_by_month = {}\n",
    "    for i in range(len(data_value)):\n",
    "        month = data_value[i].split('-')[1]\n",
    "        if month in incom_by_month.keys():\n",
    "            incom_by_month[month] += price_value[i]\n",
    "        else:\n",
    "            incom_by_month[month] = price_value[i]\n",
    "    return incom_by_month\n",
    "              \n",
    "itog (date_purchases,price_purchases)\n",
    "print(\"Выручка компании в зависимости от месяца:\", itog (date_purchases,price_purchases))"
   ]
  },
  {
   "cell_type": "markdown",
   "id": "f47ec60b",
   "metadata": {},
   "source": [
    "## Задание 5."
   ]
  },
  {
   "cell_type": "markdown",
   "id": "e1c2073a",
   "metadata": {},
   "source": [
    "### 5.1 Найдите картинку в интернете и прикрепите её в ячейку с текстом."
   ]
  },
  {
   "cell_type": "code",
   "execution_count": 5,
   "id": "3b411783",
   "metadata": {},
   "outputs": [
    {
     "data": {
      "text/html": [
       "<img src=\"https://cameralabs.org/media/camera/oktiabr/28/57_674dd4554abd7ba22592578720c32d15.jpg\" width=\"400\"/>"
      ],
      "text/plain": [
       "<IPython.core.display.Image object>"
      ]
     },
     "metadata": {},
     "output_type": "display_data"
    }
   ],
   "source": [
    "from IPython.display import Image \n",
    "display(Image(url='https://cameralabs.org/media/camera/oktiabr/28/57_674dd4554abd7ba22592578720c32d15.jpg', width = 400))"
   ]
  },
  {
   "cell_type": "markdown",
   "id": "94852a7a",
   "metadata": {},
   "source": [
    "### 5.2 Создайте следующую таблицу в ячейке с текстом (см. презентацию)\n",
    "\n"
   ]
  },
  {
   "cell_type": "markdown",
   "id": "95cf085b",
   "metadata": {},
   "source": [
    "   \t                До события\t    Во время события\n",
    "1 контрольная точка\t250\t            500\n",
    "2 контрольная точка\t350\t            700\n",
    "3 контрольная точка\t400\t            800\n",
    "Итого за победу\t    1000\t        2000"
   ]
  },
  {
   "cell_type": "markdown",
   "id": "58d09c0d",
   "metadata": {},
   "source": [
    "|  <!-- -->           |До события | Во время события |\n",
    "|---------------------|------------|------------------|\n",
    "| 1 контрольная точка |     250    |        500       |\n",
    "| 2 контрольная точка |     350    |        700       |\n",
    "| 3 контрольная точка |     400    |        800       |\n",
    "|Итого за победу      |    1000    |       2000       |"
   ]
  }
 ],
 "metadata": {
  "kernelspec": {
   "display_name": "Python 3 (ipykernel)",
   "language": "python",
   "name": "python3"
  },
  "language_info": {
   "codemirror_mode": {
    "name": "ipython",
    "version": 3
   },
   "file_extension": ".py",
   "mimetype": "text/x-python",
   "name": "python",
   "nbconvert_exporter": "python",
   "pygments_lexer": "ipython3",
   "version": "3.9.13"
  }
 },
 "nbformat": 4,
 "nbformat_minor": 5
}
